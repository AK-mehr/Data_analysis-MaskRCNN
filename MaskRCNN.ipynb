{
  "nbformat": 4,
  "nbformat_minor": 0,
  "metadata": {
    "colab": {
      "provenance": [],
      "gpuType": "T4"
    },
    "kernelspec": {
      "name": "python3",
      "display_name": "Python 3"
    },
    "language_info": {
      "name": "python"
    },
    "accelerator": "GPU"
  },
  "cells": [
    {
      "cell_type": "code",
      "execution_count": null,
      "metadata": {
        "colab": {
          "base_uri": "https://localhost:8080/"
        },
        "id": "C75wk0asMpvM",
        "outputId": "2b7dc97a-dfa8-4285-a14f-5db04161ed57"
      },
      "outputs": [
        {
          "output_type": "stream",
          "name": "stdout",
          "text": [
            "Cloning into 'mask-rcnn-Pytorch'...\n",
            "remote: Enumerating objects: 593, done.\u001b[K\n",
            "remote: Counting objects: 100% (185/185), done.\u001b[K\n",
            "remote: Compressing objects: 100% (114/114), done.\u001b[K\n",
            "remote: Total 593 (delta 126), reused 117 (delta 70), pack-reused 408\u001b[K\n",
            "Receiving objects: 100% (593/593), 3.43 MiB | 7.76 MiB/s, done.\n",
            "Resolving deltas: 100% (298/298), done.\n"
          ]
        },
        {
          "output_type": "execute_result",
          "data": {
            "text/plain": []
          },
          "metadata": {},
          "execution_count": 1
        }
      ],
      "source": [
        "%%shell\n",
        "git clone https://github.com/robintzeng/mask-rcnn-Pytorch.git\n",
        "cd mask-rcnn-Pytorch"
      ]
    },
    {
      "cell_type": "code",
      "source": [
        "# fetch kaggle api fromm drive\n",
        "!pip install gdown\n",
        "import gdown\n",
        "from colab import output\n",
        "\n",
        "url = 'https://drive.google.com/u/0/uc?id=1WaM5TlABOdmtpaowph0aUV7-JPzQb0V1&export=download'\n",
        "\n",
        "gdown.download(url=url)\n",
        "output.clear()"
      ],
      "metadata": {
        "colab": {
          "base_uri": "https://localhost:8080/",
          "height": 331
        },
        "id": "ea72f8lu3idn",
        "outputId": "b1ac2066-e807-4e31-8368-0154a1dbfee6"
      },
      "execution_count": null,
      "outputs": [
        {
          "output_type": "stream",
          "name": "stdout",
          "text": [
            "Requirement already satisfied: gdown in /usr/local/lib/python3.10/dist-packages (4.6.6)\n",
            "Requirement already satisfied: filelock in /usr/local/lib/python3.10/dist-packages (from gdown) (3.12.2)\n",
            "Requirement already satisfied: requests[socks] in /usr/local/lib/python3.10/dist-packages (from gdown) (2.27.1)\n",
            "Requirement already satisfied: six in /usr/local/lib/python3.10/dist-packages (from gdown) (1.16.0)\n",
            "Requirement already satisfied: tqdm in /usr/local/lib/python3.10/dist-packages (from gdown) (4.65.0)\n",
            "Requirement already satisfied: beautifulsoup4 in /usr/local/lib/python3.10/dist-packages (from gdown) (4.11.2)\n",
            "Requirement already satisfied: soupsieve>1.2 in /usr/local/lib/python3.10/dist-packages (from beautifulsoup4->gdown) (2.4.1)\n",
            "Requirement already satisfied: urllib3<1.27,>=1.21.1 in /usr/local/lib/python3.10/dist-packages (from requests[socks]->gdown) (1.26.16)\n",
            "Requirement already satisfied: certifi>=2017.4.17 in /usr/local/lib/python3.10/dist-packages (from requests[socks]->gdown) (2023.5.7)\n",
            "Requirement already satisfied: charset-normalizer~=2.0.0 in /usr/local/lib/python3.10/dist-packages (from requests[socks]->gdown) (2.0.12)\n",
            "Requirement already satisfied: idna<4,>=2.5 in /usr/local/lib/python3.10/dist-packages (from requests[socks]->gdown) (3.4)\n",
            "Requirement already satisfied: PySocks!=1.5.7,>=1.5.6 in /usr/local/lib/python3.10/dist-packages (from requests[socks]->gdown) (1.7.1)\n"
          ]
        },
        {
          "output_type": "stream",
          "name": "stderr",
          "text": [
            "Downloading...\n",
            "From: https://drive.google.com/u/0/uc?id=1WaM5TlABOdmtpaowph0aUV7-JPzQb0V1&export=download\n",
            "To: /content/kaggle.json\n",
            "100%|██████████| 74.0/74.0 [00:00<00:00, 237kB/s]\n"
          ]
        },
        {
          "output_type": "execute_result",
          "data": {
            "text/plain": [
              "'kaggle.json'"
            ],
            "application/vnd.google.colaboratory.intrinsic+json": {
              "type": "string"
            }
          },
          "metadata": {},
          "execution_count": 1
        }
      ]
    },
    {
      "cell_type": "code",
      "source": [
        "!pip install -q kaggle\n",
        "!mkdir kaggle\n",
        "!cp kaggle.json kaggle\n",
        "!chmod 600 kaggle/kaggle.json"
      ],
      "metadata": {
        "id": "8c8jja33-TTW"
      },
      "execution_count": null,
      "outputs": []
    },
    {
      "cell_type": "code",
      "source": [
        "!kaggle competitions download -c sartorius-cell-instance-segmentation"
      ],
      "metadata": {
        "colab": {
          "base_uri": "https://localhost:8080/"
        },
        "id": "kriJwgxt3JeD",
        "outputId": "a8f6f353-4759-4ff3-ea1c-2e2a899a2927"
      },
      "execution_count": null,
      "outputs": [
        {
          "output_type": "stream",
          "name": "stdout",
          "text": [
            "Downloading sartorius-cell-instance-segmentation.zip to /content\n",
            "100% 2.30G/2.31G [00:29<00:00, 70.0MB/s]\n",
            "100% 2.31G/2.31G [00:29<00:00, 85.1MB/s]\n"
          ]
        }
      ]
    },
    {
      "cell_type": "code",
      "source": [
        "# if all data were extracted in dataset directory this cell would be redundant\n",
        "import shutil\n",
        "\n",
        "shutil.move('/content/LIVECell_dataset_2021', '/content/dataset')\n",
        "shutil.move('/content/train', '/content/dataset')\n",
        "shutil.move('/content/test', '/content/dataset')\n",
        "shutil.move('/content/train_semi_supervised', '/content/dataset')\n",
        "shutil.move('/content/train.csv', '/content/dataset')\n",
        "shutil.move('/content/sample_submission.csv', '/content/dataset')"
      ],
      "metadata": {
        "id": "tDXM_pr9-jWr",
        "colab": {
          "base_uri": "https://localhost:8080/",
          "height": 36
        },
        "outputId": "3bec8c48-3816-44db-976f-09c3b35b47d5"
      },
      "execution_count": 6,
      "outputs": [
        {
          "output_type": "execute_result",
          "data": {
            "text/plain": [
              "'/content/dataset/sample_submission.csv'"
            ],
            "application/vnd.google.colaboratory.intrinsic+json": {
              "type": "string"
            }
          },
          "metadata": {},
          "execution_count": 6
        }
      ]
    },
    {
      "cell_type": "code",
      "source": [
        "!mkdir dataset\n",
        "!cd dataset\n",
        "!unzip /content/sartorius-cell-instance-segmentation.zip -d content/dataset\n",
        "!rm /content/sartorius-cell-instance-segmentation.zip"
      ],
      "metadata": {
        "id": "XMxEJbVpNiFE"
      },
      "execution_count": null,
      "outputs": []
    },
    {
      "cell_type": "code",
      "source": [],
      "metadata": {
        "id": "ezGoINkOC6KL"
      },
      "execution_count": null,
      "outputs": []
    }
  ]
}